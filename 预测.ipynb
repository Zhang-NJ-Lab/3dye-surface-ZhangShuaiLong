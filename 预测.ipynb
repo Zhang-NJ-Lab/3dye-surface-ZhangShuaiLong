{
 "cells": [
  {
   "cell_type": "code",
   "execution_count": 15,
   "id": "66a4e997",
   "metadata": {},
   "outputs": [],
   "source": [
    "import pickle\n",
    "import pandas as pd\n",
    "import numpy as np\n",
    "import csv\n",
    "from sklearn import preprocessing"
   ]
  },
  {
   "cell_type": "code",
   "execution_count": 16,
   "id": "40f565d5",
   "metadata": {},
   "outputs": [],
   "source": [
    "loaded_model = pickle.load(open(\"RF.dat\",\"rb\"))"
   ]
  },
  {
   "cell_type": "code",
   "execution_count": 17,
   "id": "e584f348",
   "metadata": {},
   "outputs": [],
   "source": [
    "dataset= r'zsl.csv'\n",
    "data=pd.DataFrame(pd.read_csv(dataset))"
   ]
  },
  {
   "cell_type": "code",
   "execution_count": 18,
   "id": "ffb429de",
   "metadata": {},
   "outputs": [],
   "source": [
    "X = data.values[:, :-1]\n",
    "for i in range(X.shape[1]):\n",
    "    X[:, [i]] = preprocessing.MinMaxScaler().fit_transform(X[:, [i]])"
   ]
  },
  {
   "cell_type": "code",
   "execution_count": 19,
   "id": "5fa2db98",
   "metadata": {},
   "outputs": [],
   "source": [
    "target=loaded_model.predict(X)"
   ]
  },
  {
   "cell_type": "code",
   "execution_count": 20,
   "id": "9cb63e29",
   "metadata": {
    "scrolled": true
   },
   "outputs": [
    {
     "name": "stdout",
     "output_type": "stream",
     "text": [
      "[1. 1. 1. ... 0. 0. 0.]\n"
     ]
    }
   ],
   "source": [
    "print(loaded_model.predict(X))"
   ]
  },
  {
   "cell_type": "code",
   "execution_count": 21,
   "id": "48938cd6",
   "metadata": {},
   "outputs": [],
   "source": [
    "with open('target.csv', 'w', newline='') as file:\n",
    "    writer = csv.writer(file)\n",
    "    \n",
    "    # Write each element in the array as a new row in the CSV file\n",
    "    for element in target:\n",
    "        writer.writerow([element])"
   ]
  },
  {
   "cell_type": "code",
   "execution_count": null,
   "id": "3f44741e",
   "metadata": {},
   "outputs": [],
   "source": []
  },
  {
   "cell_type": "code",
   "execution_count": null,
   "id": "d2e3414e",
   "metadata": {},
   "outputs": [],
   "source": []
  }
 ],
 "metadata": {
  "kernelspec": {
   "display_name": "NJmatML",
   "language": "python",
   "name": "njmatml"
  },
  "language_info": {
   "codemirror_mode": {
    "name": "ipython",
    "version": 3
   },
   "file_extension": ".py",
   "mimetype": "text/x-python",
   "name": "python",
   "nbconvert_exporter": "python",
   "pygments_lexer": "ipython3",
   "version": "3.8.8"
  }
 },
 "nbformat": 4,
 "nbformat_minor": 5
}
